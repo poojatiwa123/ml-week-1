{
 "cells": [
  {
   "cell_type": "markdown",
   "id": "fb98dd0e-04cd-4b91-998d-f0e43f94d072",
   "metadata": {},
   "source": [
    "TASK 01"
   ]
  },
  {
   "cell_type": "code",
   "execution_count": 1,
   "id": "800e392e-dd69-4cea-84f3-8896ebd3feb4",
   "metadata": {},
   "outputs": [
    {
     "name": "stdout",
     "output_type": "stream",
     "text": [
      "Student 1 - Total: 151, Average: 50.33\n",
      "Student 2 - Total: 289, Average: 96.33\n",
      "Student 3 - Total: 139, Average: 46.33\n"
     ]
    }
   ],
   "source": [
    "\n",
    "marks = [\n",
    "    [33, 60, 58],  \n",
    "    [96, 98, 95],  \n",
    "    [42, 41, 56]   \n",
    "]\n",
    "\n",
    "for i, student_marks in enumerate(marks, start=1):\n",
    "    total = sum(student_marks)\n",
    "    average = total / len(student_marks)\n",
    "    print(f\"Student {i} - Total: {total}, Average: {average:.2f}\")\n"
   ]
  },
  {
   "cell_type": "markdown",
   "id": "a79123b5-a144-4b3d-a625-0781171bf4f6",
   "metadata": {},
   "source": [
    "TASK 02"
   ]
  },
  {
   "cell_type": "code",
   "execution_count": 2,
   "id": "a38ae7a2-5800-4fbc-9586-177a5a6dab5c",
   "metadata": {},
   "outputs": [
    {
     "name": "stdout",
     "output_type": "stream",
     "text": [
      "Student Information:\n",
      "----------------------------------------\n",
      "Roll No.  Name           Age  \n",
      "----------------------------------------\n",
      "101       Alice          17   \n",
      "102       Bob            18   \n",
      "103       Charlie        17   \n"
     ]
    }
   ],
   "source": [
    "students = [\n",
    "    (101, \"Alice\", 17),\n",
    "    (102, \"Bob\", 18),\n",
    "    (103, \"Charlie\", 17)\n",
    "]\n",
    "\n",
    "\n",
    "print(\"Student Information:\")\n",
    "print(\"-\" * 40)\n",
    "print(f\"{'Roll No.':<10}{'Name':<15}{'Age':<5}\")\n",
    "print(\"-\" * 40)\n",
    "\n",
    "for student in students:\n",
    "    roll_no, name, age = student\n",
    "    print(f\"{roll_no:<10}{name:<15}{age:<5}\")\n"
   ]
  },
  {
   "cell_type": "markdown",
   "id": "5005d045-1ffa-4da4-8930-80decf674fb0",
   "metadata": {},
   "source": [
    "TASK 03"
   ]
  },
  {
   "cell_type": "code",
   "execution_count": 3,
   "id": "7f4326c0-f70f-47e6-974e-2176d60a8dea",
   "metadata": {},
   "outputs": [
    {
     "name": "stdout",
     "output_type": "stream",
     "text": [
      "Roll Number: 102, Name: Bob\n",
      "No student found with Roll Number: 105\n"
     ]
    }
   ],
   "source": [
    "student_dict = {\n",
    "    101: \"Alice\",\n",
    "    102: \"Bob\",\n",
    "    103: \"Charlie\"\n",
    "}\n",
    "\n",
    "def search_student_name(roll_no):\n",
    "    name = student_dict.get(roll_no)\n",
    "    if name:\n",
    "        print(f\"Roll Number: {roll_no}, Name: {name}\")\n",
    "    else:\n",
    "        print(f\"No student found with Roll Number: {roll_no}\")\n",
    "\n",
    "search_student_name(102)  \n",
    "search_student_name(105)  "
   ]
  },
  {
   "cell_type": "markdown",
   "id": "d9eba891-0140-4e65-8c7f-c13ae55ad9f7",
   "metadata": {},
   "source": [
    "TASK 04"
   ]
  },
  {
   "cell_type": "code",
   "execution_count": 5,
   "id": "8838993a-9114-4c62-9ad4-864ab0f99588",
   "metadata": {},
   "outputs": [
    {
     "name": "stdout",
     "output_type": "stream",
     "text": [
      "Students who play both football and cricket: {'Bob'}\n",
      "Students who play only one sport: {'Eve', 'Charlie', 'David', 'Alice'}\n",
      "Students who play neither sport: set()\n"
     ]
    }
   ],
   "source": [
    "all_students = {\"Alice\", \"Bob\", \"Charlie\", \"David\", \"Eve\"}\n",
    "football_players = {\"Alice\", \"Bob\", \"Eve\"}\n",
    "cricket_players = {\"Bob\", \"Charlie\", \"David\"}\n",
    "both = football_players & cricket_players\n",
    "only_one = (football_players ^ cricket_players)\n",
    "neither = all_students - (football_players | cricket_players)\n",
    "\n",
    "print(\"Students who play both football and cricket:\", both)\n",
    "print(\"Students who play only one sport:\", only_one)\n",
    "print(\"Students who play neither sport:\", neither)\n"
   ]
  },
  {
   "cell_type": "code",
   "execution_count": null,
   "id": "534a71db-5e80-445a-9960-844caa64ed17",
   "metadata": {},
   "outputs": [],
   "source": []
  }
 ],
 "metadata": {
  "kernelspec": {
   "display_name": "Python 3 (ipykernel)",
   "language": "python",
   "name": "python3"
  },
  "language_info": {
   "codemirror_mode": {
    "name": "ipython",
    "version": 3
   },
   "file_extension": ".py",
   "mimetype": "text/x-python",
   "name": "python",
   "nbconvert_exporter": "python",
   "pygments_lexer": "ipython3",
   "version": "3.13.3"
  }
 },
 "nbformat": 4,
 "nbformat_minor": 5
}
