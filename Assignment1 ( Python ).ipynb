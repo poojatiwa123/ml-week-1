{
 "cells": [
  {
   "cell_type": "markdown",
   "id": "ce394cf8-4d9d-4736-a390-bccff41e4441",
   "metadata": {},
   "source": [
    "TASK 01"
   ]
  },
  {
   "cell_type": "code",
   "execution_count": 1,
   "id": "f26564d7-7d3f-4f72-b076-e70ddd0e6504",
   "metadata": {},
   "outputs": [
    {
     "name": "stdin",
     "output_type": "stream",
     "text": [
      " What is your name ?  Pooja\n"
     ]
    }
   ],
   "source": [
    "name = input ( \" What is your name ? \" )"
   ]
  },
  {
   "cell_type": "code",
   "execution_count": 3,
   "id": "fdef0f68-4cab-4638-a4e5-45d971c7cf13",
   "metadata": {},
   "outputs": [
    {
     "name": "stdin",
     "output_type": "stream",
     "text": [
      " How old are you ?  20\n"
     ]
    }
   ],
   "source": [
    "age = input ( \" How old are you ? \" )"
   ]
  },
  {
   "cell_type": "code",
   "execution_count": 4,
   "id": "201b38a3-aac1-49fc-96b4-9257e9ae5e21",
   "metadata": {},
   "outputs": [
    {
     "name": "stdin",
     "output_type": "stream",
     "text": [
      " Where are you from ?  bhopal\n"
     ]
    }
   ],
   "source": [
    "location = input ( \" Where are you from ? \" ) "
   ]
  },
  {
   "cell_type": "code",
   "execution_count": 5,
   "id": "3bc3d38c-a72b-4705-a472-a303f8eab9ed",
   "metadata": {},
   "outputs": [
    {
     "name": "stdin",
     "output_type": "stream",
     "text": [
      " What is something you are interested in ?  cooking\n"
     ]
    }
   ],
   "source": [
    "interest = input ( \" What is something you are interested in ? \" )"
   ]
  },
  {
   "cell_type": "code",
   "execution_count": 6,
   "id": "885e222f-d533-4e7d-a649-ec24ca453c3c",
   "metadata": {},
   "outputs": [
    {
     "name": "stdout",
     "output_type": "stream",
     "text": [
      "\n",
      "--- About Me ---\n"
     ]
    }
   ],
   "source": [
    "print ( \"\\n--- About Me ---\" )"
   ]
  },
  {
   "cell_type": "code",
   "execution_count": 7,
   "id": "a4eee2c5-fcee-418c-9d44-9970beece281",
   "metadata": {},
   "outputs": [
    {
     "name": "stdout",
     "output_type": "stream",
     "text": [
      "Hi, my name is Pooja. I'm 20 years old and I live in bhopal.\n"
     ]
    }
   ],
   "source": [
    "print ( f\"Hi, my name is { name }. I'm { age } years old and I live in { location }.\")"
   ]
  },
  {
   "cell_type": "code",
   "execution_count": 8,
   "id": "ace93d5a-9a5d-46a4-ae63-4c82ce3278db",
   "metadata": {},
   "outputs": [
    {
     "name": "stdout",
     "output_type": "stream",
     "text": [
      "I'm really interested in cooking. Nice to meet you !\n"
     ]
    }
   ],
   "source": [
    "print ( f\"I'm really interested in { interest }. Nice to meet you !\")"
   ]
  },
  {
   "cell_type": "markdown",
   "id": "9665b9df-05d2-4cef-83a6-af27862e63ee",
   "metadata": {},
   "source": []
  },
  {
   "cell_type": "markdown",
   "id": "ce0c9077-fb54-41c6-9463-55850560b63f",
   "metadata": {},
   "source": [
    "Task 02"
   ]
  },
  {
   "cell_type": "code",
   "execution_count": null,
   "id": "ee05f711-cd9a-4454-9472-6647fcbffc0f",
   "metadata": {},
   "outputs": [],
   "source": [
    "total = 0\n",
    "while True:\n",
    "    name = input(\"Item name (or 'done'): \")\n",
    "    if name.lower() == 'done':\n",
    "        break\n",
    "    price = float(input(\"Price: \"))\n",
    "    qty = int(input(\"Quantity: \"))\n",
    "    total += price * qty\n",
    "\n",
    "gst = total * 0.18\n",
    "final_total = total + gst\n",
    "\n",
    "print(f\"\\nSubtotal: ₹{total:.2f}\")\n",
    "print(f\"GST (18%): ₹{gst:.2f}\")\n",
    "print(f\"Total: ₹{final_total:.2f}\")"
   ]
  },
  {
   "cell_type": "markdown",
   "id": "0a5ac2e3-3725-4303-9c0c-9cf02d8d1e91",
   "metadata": {},
   "source": [
    "Task 03"
   ]
  },
  {
   "cell_type": "code",
   "execution_count": null,
   "id": "cf4fcc09-d941-4c21-a189-6a6b77103f96",
   "metadata": {},
   "outputs": [],
   "source": [
    "marks = float(input(\"Enter your marks (0-100): \"))\n",
    "\n",
    "if marks >= 90:\n",
    "    grade = 'A'\n",
    "elif marks >= 75:\n",
    "    grade = 'B'\n",
    "elif marks >= 60:\n",
    "    grade = 'C'\n",
    "elif marks >= 40:\n",
    "    grade = 'D'\n",
    "else:\n",
    "    grade = 'Fail'\n",
    "\n",
    "print(f\"Your Grade: {grade}\")"
   ]
  },
  {
   "cell_type": "markdown",
   "id": "63a982a2-9bab-4acc-80a2-cb2efa7aa192",
   "metadata": {},
   "source": [
    "Task 04"
   ]
  },
  {
   "cell_type": "code",
   "execution_count": null,
   "id": "737d783d-6098-4894-9907-fe6413a76e84",
   "metadata": {},
   "outputs": [],
   "source": [
    "temps = []\n",
    "for i in range(5):\n",
    "    t = float(input(f\"Enter temperature for day {i+1}: \"))\n",
    "    temps.append(t)\n",
    "\n",
    "avg = sum(temps) / 5\n",
    "print(f\"Average temperature: {avg:.2f}\")"
   ]
  },
  {
   "cell_type": "markdown",
   "id": "8cdd41c7-2c75-4b29-b4ba-a3f8a1df6e2a",
   "metadata": {},
   "source": [
    "Task 05"
   ]
  },
  {
   "cell_type": "code",
   "execution_count": null,
   "id": "6990f121-17ad-40d7-8b11-89a5452dcf12",
   "metadata": {},
   "outputs": [],
   "source": [
    "import random\n",
    "secret = random.randint(1, 100)\n",
    "\n",
    "for i in range(5):\n",
    "    guess = input(f\"Attempt {i+1}/5 - Guess the number: \")\n",
    "    if not guess.isdigit():\n",
    "        print(\"Invalid input, try again.\")\n",
    "        continue\n",
    "    if int(guess) == secret:\n",
    "        print(\"Correct! You guessed it!\")\n",
    "        break\n",
    "    else:\n",
    "        print(\"Wrong guess.\")\n",
    "else:\n",
    "    print(f\"Out of attempts! The number was {secret}.\")"
   ]
  },
  {
   "cell_type": "code",
   "execution_count": null,
   "id": "2fe8920f-f44d-42f0-b31d-fde7274ba1c4",
   "metadata": {},
   "outputs": [],
   "source": []
  }
 ],
 "metadata": {
  "kernelspec": {
   "display_name": "Python 3 (ipykernel)",
   "language": "python",
   "name": "python3"
  },
  "language_info": {
   "codemirror_mode": {
    "name": "ipython",
    "version": 3
   },
   "file_extension": ".py",
   "mimetype": "text/x-python",
   "name": "python",
   "nbconvert_exporter": "python",
   "pygments_lexer": "ipython3",
   "version": "3.12.6"
  }
 },
 "nbformat": 4,
 "nbformat_minor": 5
}
